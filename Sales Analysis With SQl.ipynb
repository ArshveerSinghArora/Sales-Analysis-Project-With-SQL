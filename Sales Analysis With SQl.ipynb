{
 "cells": [
  {
   "cell_type": "code",
   "execution_count": 4,
   "id": "fa133a82",
   "metadata": {},
   "outputs": [
    {
     "name": "stdout",
     "output_type": "stream",
     "text": [
      "Requirement already satisfied: mysql-connector-python in c:\\users\\arshv\\anaconda3\\lib\\site-packages (8.0.33)\n",
      "Requirement already satisfied: protobuf<=3.20.3,>=3.11.0 in c:\\users\\arshv\\anaconda3\\lib\\site-packages (from mysql-connector-python) (3.20.3)\n"
     ]
    }
   ],
   "source": [
    "# intall required package to mysql workbench\n",
    "!pip install mysql-connector-python"
   ]
  },
  {
   "cell_type": "code",
   "execution_count": 1,
   "id": "8fb30904",
   "metadata": {},
   "outputs": [],
   "source": [
    "#\n",
    "import mysql.connector as conn"
   ]
  },
  {
   "cell_type": "code",
   "execution_count": 2,
   "id": "1a27d1b0",
   "metadata": {},
   "outputs": [],
   "source": [
    "# connection request by passing username & password\n",
    "# password of your mysql workbench\n",
    "mydb=conn.connect(host=\"localhost\",user=\"root\",password=\"#Itsasa78\")"
   ]
  },
  {
   "cell_type": "code",
   "execution_count": 3,
   "id": "14e02243",
   "metadata": {},
   "outputs": [],
   "source": [
    "# create a cursor or pointer\n",
    "cursor=mydb.cursor()"
   ]
  },
  {
   "cell_type": "code",
   "execution_count": 4,
   "id": "a2cdf6e6",
   "metadata": {},
   "outputs": [],
   "source": [
    "# to execute any command in this file\n",
    "cursor.execute('SHOW DATABASES')"
   ]
  },
  {
   "cell_type": "code",
   "execution_count": 5,
   "id": "650a14c8",
   "metadata": {},
   "outputs": [
    {
     "data": {
      "text/plain": [
       "[('information_schema',),\n",
       " ('mysql',),\n",
       " ('performance_schema',),\n",
       " ('swiggy',),\n",
       " ('sys',)]"
      ]
     },
     "execution_count": 5,
     "metadata": {},
     "output_type": "execute_result"
    }
   ],
   "source": [
    "cursor.fetchall()"
   ]
  },
  {
   "cell_type": "code",
   "execution_count": 15,
   "id": "953d9037",
   "metadata": {},
   "outputs": [],
   "source": [
    "cursor.execute('CREATE DATABASE swiggy')"
   ]
  },
  {
   "cell_type": "code",
   "execution_count": 16,
   "id": "d17502e4",
   "metadata": {},
   "outputs": [],
   "source": [
    "cursor.execute('CREATE TABLE swiggy.swiggyoneusers_signup(userid integer,swiggyone_signup_date date)')"
   ]
  },
  {
   "cell_type": "code",
   "execution_count": 6,
   "id": "a329bfee",
   "metadata": {},
   "outputs": [],
   "source": [
    "cursor.execute('USE swiggy')"
   ]
  },
  {
   "cell_type": "code",
   "execution_count": 7,
   "id": "4a3df722",
   "metadata": {},
   "outputs": [],
   "source": [
    "cursor.execute('SHOW TABLES')"
   ]
  },
  {
   "cell_type": "code",
   "execution_count": 8,
   "id": "3b37f21e",
   "metadata": {},
   "outputs": [
    {
     "data": {
      "text/plain": [
       "[('product',), ('sales',), ('swiggyoneusers_signup',), ('users',)]"
      ]
     },
     "execution_count": 8,
     "metadata": {},
     "output_type": "execute_result"
    }
   ],
   "source": [
    "cursor.fetchall()"
   ]
  },
  {
   "cell_type": "code",
   "execution_count": 20,
   "id": "29b46435",
   "metadata": {},
   "outputs": [],
   "source": [
    "cursor.execute('INSERT INTO swiggy.swiggyoneusers_signup(userid,swiggyone_signup_date) VALUES(1,\"2017-09-22\"),(3,\"2017-04-21)\")');"
   ]
  },
  {
   "cell_type": "markdown",
   "id": "1cc59611",
   "metadata": {},
   "source": [
    "## To make the changes reflected in the mysql workbench after every insertion in the table"
   ]
  },
  {
   "cell_type": "code",
   "execution_count": 21,
   "id": "8b0ab00f",
   "metadata": {},
   "outputs": [],
   "source": [
    "# to make the changes reflected in the mysql workbench \n",
    "# after every insertion in the table\n",
    "mydb.commit()"
   ]
  },
  {
   "cell_type": "code",
   "execution_count": 22,
   "id": "3e242ee5",
   "metadata": {},
   "outputs": [
    {
     "data": {
      "text/plain": [
       "[(1, datetime.date(2017, 9, 22)), (3, datetime.date(2017, 4, 21))]"
      ]
     },
     "execution_count": 22,
     "metadata": {},
     "output_type": "execute_result"
    }
   ],
   "source": [
    "cursor.execute('SELECT * FROM swiggy.swiggyoneusers_signup')\n",
    "cursor.fetchall()"
   ]
  },
  {
   "cell_type": "code",
   "execution_count": 25,
   "id": "9506534d",
   "metadata": {},
   "outputs": [
    {
     "data": {
      "text/plain": [
       "[('swiggyoneusers_signup',), ('users',)]"
      ]
     },
     "execution_count": 25,
     "metadata": {},
     "output_type": "execute_result"
    }
   ],
   "source": [
    "cursor.execute('CREATE TABLE swiggy.users(userid integer,signup_date date)')\n",
    "cursor.execute('USE swiggy')\n",
    "cursor.execute('SHOW TABLES')\n",
    "cursor.fetchall()"
   ]
  },
  {
   "cell_type": "code",
   "execution_count": 27,
   "id": "7e32a7be",
   "metadata": {},
   "outputs": [],
   "source": [
    "cursor.execute('INSERT INTO swiggy.users(userid,signup_date) VALUES(1,\"2014-02-19\"),(2,\"2015-01-15\"),(3,\"2014-04-11\")');"
   ]
  },
  {
   "cell_type": "code",
   "execution_count": 9,
   "id": "a77da495",
   "metadata": {},
   "outputs": [
    {
     "data": {
      "text/plain": [
       "[(1, datetime.date(2014, 2, 19)),\n",
       " (2, datetime.date(2015, 1, 15)),\n",
       " (3, datetime.date(2014, 4, 11))]"
      ]
     },
     "execution_count": 9,
     "metadata": {},
     "output_type": "execute_result"
    }
   ],
   "source": [
    "cursor.execute(\"SELECT * FROM swiggy.users\")\n",
    "cursor.fetchall()"
   ]
  },
  {
   "cell_type": "code",
   "execution_count": 30,
   "id": "fccfcfa3",
   "metadata": {},
   "outputs": [],
   "source": [
    "mydb.commit()"
   ]
  },
  {
   "cell_type": "code",
   "execution_count": 31,
   "id": "1665ed31",
   "metadata": {},
   "outputs": [],
   "source": [
    "cursor.execute('CREATE TABLE swiggy.sales(userid integer,created_date date,product_id integer)')"
   ]
  },
  {
   "cell_type": "code",
   "execution_count": 10,
   "id": "61bc0bed",
   "metadata": {},
   "outputs": [
    {
     "data": {
      "text/plain": [
       "[('product',), ('sales',), ('swiggyoneusers_signup',), ('users',)]"
      ]
     },
     "execution_count": 10,
     "metadata": {},
     "output_type": "execute_result"
    }
   ],
   "source": [
    "cursor.execute('USE swiggy')\n",
    "cursor.execute('SHOW TABLES')\n",
    "cursor.fetchall()"
   ]
  },
  {
   "cell_type": "code",
   "execution_count": 34,
   "id": "9cfec7ba",
   "metadata": {},
   "outputs": [],
   "source": [
    "cursor.execute('INSERT INTO swiggy.sales(userid,created_date,product_id) VALUES(1,\"2014-04-19\",2),(3,\"2019-12-18\",1),(2,\"2020-07-20\",3)');"
   ]
  },
  {
   "cell_type": "code",
   "execution_count": 37,
   "id": "e89a89a8",
   "metadata": {},
   "outputs": [],
   "source": [
    "cursor.execute('INSERT INTO swiggy.sales(userid,created_date,product_id) VALUES(1,\"2018-03-19\",3),(3,\"2016-12-20\",2),(1,\"2016-09-11\",1),(1,\"2016-05-20\",3)')\n",
    "cursor.execute('INSERT INTO swiggy.sales(userid,created_date,product_id) VALUES(1,\"2016-05-20\",3),(2,\"2017-09-24\",1),(1,\"2017-03-11\",2),(1,\"2016-03-11\",1),(3,\"2016-11-10\",1),(3,\"2017-12-07\",2),(3,\"2016-02-15\",2),(2,\"2017-11-08\",2),(2,\"2018-09-10\",3)')"
   ]
  },
  {
   "cell_type": "code",
   "execution_count": 11,
   "id": "258e7dd2",
   "metadata": {},
   "outputs": [
    {
     "data": {
      "text/plain": [
       "[(1, datetime.date(2014, 4, 19), 2),\n",
       " (3, datetime.date(2019, 12, 18), 1),\n",
       " (2, datetime.date(2020, 7, 20), 3),\n",
       " (1, datetime.date(2018, 3, 19), 3),\n",
       " (3, datetime.date(2016, 12, 20), 2),\n",
       " (1, datetime.date(2016, 9, 11), 1),\n",
       " (1, datetime.date(2016, 5, 20), 3),\n",
       " (1, datetime.date(2016, 5, 20), 3),\n",
       " (2, datetime.date(2017, 9, 24), 1),\n",
       " (1, datetime.date(2017, 3, 11), 2),\n",
       " (1, datetime.date(2016, 3, 11), 1),\n",
       " (3, datetime.date(2016, 11, 10), 1),\n",
       " (3, datetime.date(2017, 12, 7), 2),\n",
       " (3, datetime.date(2016, 2, 15), 2),\n",
       " (2, datetime.date(2017, 11, 8), 2),\n",
       " (2, datetime.date(2018, 9, 10), 3)]"
      ]
     },
     "execution_count": 11,
     "metadata": {},
     "output_type": "execute_result"
    }
   ],
   "source": [
    "cursor.execute('Select * from swiggy.sales')\n",
    "cursor.fetchall()"
   ]
  },
  {
   "cell_type": "code",
   "execution_count": 39,
   "id": "ee1799c0",
   "metadata": {},
   "outputs": [],
   "source": [
    "mydb.commit()"
   ]
  },
  {
   "cell_type": "code",
   "execution_count": 40,
   "id": "abdf0480",
   "metadata": {},
   "outputs": [],
   "source": [
    "cursor.execute('CREATE TABLE swiggy.product(product_id integer,product_name text,price integer)')"
   ]
  },
  {
   "cell_type": "code",
   "execution_count": 12,
   "id": "3b621128",
   "metadata": {},
   "outputs": [
    {
     "data": {
      "text/plain": [
       "[('product',), ('sales',), ('swiggyoneusers_signup',), ('users',)]"
      ]
     },
     "execution_count": 12,
     "metadata": {},
     "output_type": "execute_result"
    }
   ],
   "source": [
    "cursor.execute('USE swiggy')\n",
    "cursor.execute('SHOW TABLES')\n",
    "cursor.fetchall()"
   ]
  },
  {
   "cell_type": "code",
   "execution_count": 42,
   "id": "b5dacf0b",
   "metadata": {},
   "outputs": [],
   "source": [
    "cursor.execute('INSERT INTO swiggy.product(product_id,product_name,price) VALUES(1,\"p1\",980),(2,\"p2\",870),(3,\"p3\",330)');"
   ]
  },
  {
   "cell_type": "code",
   "execution_count": 13,
   "id": "0decd207",
   "metadata": {},
   "outputs": [
    {
     "data": {
      "text/plain": [
       "[(1, 'p1', 980), (2, 'p2', 870), (3, 'p3', 330)]"
      ]
     },
     "execution_count": 13,
     "metadata": {},
     "output_type": "execute_result"
    }
   ],
   "source": [
    " cursor.execute('Select * from swiggy.product')\n",
    "cursor.fetchall()"
   ]
  },
  {
   "cell_type": "code",
   "execution_count": 44,
   "id": "cdd23dd8",
   "metadata": {},
   "outputs": [],
   "source": [
    "mydb.commit()"
   ]
  },
  {
   "cell_type": "markdown",
   "id": "eebb8f91",
   "metadata": {},
   "source": [
    "## Sales Analysis\n"
   ]
  },
  {
   "cell_type": "markdown",
   "id": "18bcffc0",
   "metadata": {},
   "source": [
    "### Q1. What is the total amount each customer is spending on swiggy platform ?"
   ]
  },
  {
   "cell_type": "code",
   "execution_count": 14,
   "id": "d92145ea",
   "metadata": {},
   "outputs": [],
   "source": [
    " cursor.execute(\"select s.userid, SUM(p.price) totalAmount from sales s INNER JOIN product p ON s.product_id=p.product_id GROUP BY s.userid\")"
   ]
  },
  {
   "cell_type": "code",
   "execution_count": 15,
   "id": "968e444b",
   "metadata": {},
   "outputs": [
    {
     "data": {
      "text/plain": [
       "[(1, Decimal('4690')), (3, Decimal('4570')), (2, Decimal('2510'))]"
      ]
     },
     "execution_count": 15,
     "metadata": {},
     "output_type": "execute_result"
    }
   ],
   "source": [
    "cursor.fetchall()"
   ]
  },
  {
   "cell_type": "markdown",
   "id": "4c7ac5bc",
   "metadata": {},
   "source": [
    "### Q2. What is the most purchased item on the Menu ?"
   ]
  },
  {
   "cell_type": "code",
   "execution_count": 16,
   "id": "3d206e37",
   "metadata": {},
   "outputs": [],
   "source": [
    "cursor.execute(\"select product_id from sales GROUP BY product_id ORDER BY COUNT(product_id) DESC LIMIT 1\")"
   ]
  },
  {
   "cell_type": "code",
   "execution_count": 17,
   "id": "4e46fc78",
   "metadata": {},
   "outputs": [
    {
     "data": {
      "text/plain": [
       "[(2,)]"
      ]
     },
     "execution_count": 17,
     "metadata": {},
     "output_type": "execute_result"
    }
   ],
   "source": [
    "cursor.fetchall()"
   ]
  },
  {
   "cell_type": "markdown",
   "id": "8ae24957",
   "metadata": {},
   "source": [
    "### Q3 What was the first product purchased by each of the customers ?"
   ]
  },
  {
   "cell_type": "code",
   "execution_count": 18,
   "id": "235b27ec",
   "metadata": {},
   "outputs": [],
   "source": [
    "cursor.execute(\"select * from (select *,rank() over (partition by userid order by created_date) rnk from sales) res where rnk = 1\")"
   ]
  },
  {
   "cell_type": "code",
   "execution_count": 19,
   "id": "6f93aa3e",
   "metadata": {},
   "outputs": [
    {
     "data": {
      "text/plain": [
       "[(1, datetime.date(2014, 4, 19), 2, 1),\n",
       " (2, datetime.date(2017, 9, 24), 1, 1),\n",
       " (3, datetime.date(2016, 2, 15), 2, 1)]"
      ]
     },
     "execution_count": 19,
     "metadata": {},
     "output_type": "execute_result"
    }
   ],
   "source": [
    "cursor.fetchall()"
   ]
  },
  {
   "cell_type": "markdown",
   "id": "7571a75e",
   "metadata": {},
   "source": [
    "### Q4. Which item was the most popular item for each customer ?"
   ]
  },
  {
   "cell_type": "code",
   "execution_count": 20,
   "id": "3f463828",
   "metadata": {},
   "outputs": [],
   "source": [
    "cursor.execute('SELECT * FROM (SELECT *,rank() OVER(PARTITION BY userid ORDER BY CNT DESC) rnk FROM(SELECT userid, product_id, count(product_id) CNT FROM sales GROUP BY userid, product_id)a)b WHERE rnk=1')"
   ]
  },
  {
   "cell_type": "code",
   "execution_count": 21,
   "id": "ab0052fb",
   "metadata": {},
   "outputs": [
    {
     "data": {
      "text/plain": [
       "[(1, 3, 3, 1), (2, 3, 2, 1), (3, 2, 3, 1)]"
      ]
     },
     "execution_count": 21,
     "metadata": {},
     "output_type": "execute_result"
    }
   ],
   "source": [
    "cursor.fetchall()"
   ]
  },
  {
   "cell_type": "code",
   "execution_count": null,
   "id": "c86311eb",
   "metadata": {},
   "outputs": [],
   "source": []
  }
 ],
 "metadata": {
  "kernelspec": {
   "display_name": "Python 3 (ipykernel)",
   "language": "python",
   "name": "python3"
  },
  "language_info": {
   "codemirror_mode": {
    "name": "ipython",
    "version": 3
   },
   "file_extension": ".py",
   "mimetype": "text/x-python",
   "name": "python",
   "nbconvert_exporter": "python",
   "pygments_lexer": "ipython3",
   "version": "3.9.7"
  }
 },
 "nbformat": 4,
 "nbformat_minor": 5
}
